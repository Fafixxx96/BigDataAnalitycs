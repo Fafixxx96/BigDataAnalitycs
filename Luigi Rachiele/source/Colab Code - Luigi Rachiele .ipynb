{
 "cells": [
  {
   "cell_type": "markdown",
   "metadata": {
    "id": "9Nt-JhvGpL3V"
   },
   "source": [
    "# Library and dataset setup"
   ]
  },
  {
   "cell_type": "code",
   "execution_count": 1,
   "metadata": {
    "colab": {
     "base_uri": "https://localhost:8080/",
     "height": 0
    },
    "id": "TCKYGasRNKJo",
    "outputId": "bbe44cf9-3f5a-4a43-e613-3ef35d3452e4"
   },
   "outputs": [
    {
     "name": "stdout",
     "output_type": "stream",
     "text": [
      "Requirement already satisfied: pyspark in c:\\python39\\lib\\site-packages (3.1.2)\n",
      "Requirement already satisfied: py4j==0.10.9 in c:\\python39\\lib\\site-packages (from pyspark) (0.10.9)\n"
     ]
    }
   ],
   "source": [
    "!pip install pyspark"
   ]
  },
  {
   "cell_type": "code",
   "execution_count": 5,
   "metadata": {
    "id": "H9fBpcL0YvZs"
   },
   "outputs": [],
   "source": [
    "import pandas as pd\n",
    "import requests\n",
    "import numpy as np\n",
    "\n",
    "\n",
    "### Load the required packages in the required format\n",
    "\n",
    "%matplotlib notebook\n",
    "import matplotlib.pyplot as plt\n",
    "import seaborn as sns\n",
    "import pickle\n",
    "plt.style.use('ggplot')\n",
    "import warnings\n",
    "warnings.filterwarnings(\"ignore\")\n",
    "\n",
    "import pyspark\n",
    "\n",
    "\n"
   ]
  },
  {
   "cell_type": "code",
   "execution_count": 6,
   "metadata": {
    "colab": {
     "base_uri": "https://localhost:8080/",
     "height": 91,
     "resources": {
      "http://localhost:8080/nbextensions/google.colab/files.js": {
       "data": "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",
       "headers": [
        [
         "content-type",
         "application/javascript"
        ]
       ],
       "ok": true,
       "status": 200,
       "status_text": ""
      }
     }
    },
    "id": "6-YsAhjgpJjm",
    "outputId": "90d121b1-05b6-4d3c-c685-d4236c6ff865"
   },
   "outputs": [
    {
     "data": {
      "text/html": [
       "\n",
       "     <input type=\"file\" id=\"files-4708b5b3-bb29-4019-a5a0-f00f8ddf50d7\" name=\"files[]\" multiple disabled\n",
       "        style=\"border:none\" />\n",
       "     <output id=\"result-4708b5b3-bb29-4019-a5a0-f00f8ddf50d7\">\n",
       "      Upload widget is only available when the cell has been executed in the\n",
       "      current browser session. Please rerun this cell to enable.\n",
       "      </output>\n",
       "      <script src=\"/nbextensions/google.colab/files.js\"></script> "
      ],
      "text/plain": [
       "<IPython.core.display.HTML object>"
      ]
     },
     "metadata": {
      "tags": []
     },
     "output_type": "display_data"
    },
    {
     "name": "stdout",
     "output_type": "stream",
     "text": [
      "Saving kaggle.json to kaggle.json\n"
     ]
    },
    {
     "data": {
      "text/plain": [
       "{'kaggle.json': b'{\"username\":\"luigirachiele\",\"key\":\"47ab4d1b758be41dba8aff5c82f8f8b4\"}'}"
      ]
     },
     "execution_count": 6,
     "metadata": {
      "tags": []
     },
     "output_type": "execute_result"
    }
   ],
   "source": [
    "!pip install -q kaggle\n",
    "from google.colab import files\n",
    "files.upload()"
   ]
  },
  {
   "cell_type": "code",
   "execution_count": 7,
   "metadata": {
    "colab": {
     "base_uri": "https://localhost:8080/",
     "height": 0
    },
    "id": "jhVweBjapJrD",
    "outputId": "20ba2698-8a07-4c6b-e6d4-f444065e3a2a"
   },
   "outputs": [
    {
     "name": "stdout",
     "output_type": "stream",
     "text": [
      "Downloading spotify-playlist.zip to /content\n",
      " 98% 180M/183M [00:02<00:00, 80.4MB/s]\n",
      "100% 183M/183M [00:02<00:00, 84.4MB/s]\n",
      "Archive:  spotify-playlist.zip\n",
      "  inflating: README.txt              \n",
      "  inflating: spotify_dataset.csv     \n"
     ]
    }
   ],
   "source": [
    "!mkdir ~/.kaggle\n",
    "!cp kaggle.json ~/.kaggle/\n",
    "!chmod 600 ~/.kaggle/kaggle.json\n",
    "#!kaggle datasets list\n",
    "!kaggle datasets download -d ashwinik/spotify-playlist\n",
    "!unzip spotify-playlist.zip"
   ]
  },
  {
   "cell_type": "code",
   "execution_count": 28,
   "metadata": {
    "colab": {
     "base_uri": "https://localhost:8080/"
    },
    "id": "kb4vy9d2flP7",
    "outputId": "8e3ce8be-9ac8-40bb-d594-cc6be33d3174"
   },
   "outputs": [
    {
     "name": "stdout",
     "output_type": "stream",
     "text": [
      "Read Succesful with shape (12774191, 4)\n"
     ]
    }
   ],
   "source": [
    "spotify_data = pd.read_csv('/content/spotify_dataset.csv',escapechar= '.',error_bad_lines = False,warn_bad_lines=False)\n",
    "spotify_data.columns = ['user_id','artistname','trackname','playlistname']\n",
    "print (\"Read Succesful with shape {}\".format(spotify_data.shape))"
   ]
  },
  {
   "cell_type": "code",
   "execution_count": 9,
   "metadata": {
    "id": "f-OC2Wjkodml"
   },
   "outputs": [],
   "source": [
    "from pyspark.sql import SparkSession\n",
    "spark = SparkSession.builder.config(\"spark.driver.memory\",\"12g\").appName('Practise').getOrCreate()"
   ]
  },
  {
   "cell_type": "markdown",
   "metadata": {
    "id": "wayymhGnYnuS",
    "jp-MarkdownHeadingCollapsed": true,
    "tags": []
   },
   "source": [
    "# Spotify API"
   ]
  },
  {
   "cell_type": "code",
   "execution_count": 11,
   "metadata": {
    "colab": {
     "base_uri": "https://localhost:8080/",
     "height": 381
    },
    "id": "dCboc9d4ZIA0",
    "outputId": "15f2824c-ee90-4af4-cbd6-6d554277c619"
   },
   "outputs": [
    {
     "ename": "ModuleNotFoundError",
     "evalue": "ignored",
     "output_type": "error",
     "traceback": [
      "\u001b[0;31m---------------------------------------------------------------------------\u001b[0m",
      "\u001b[0;31mModuleNotFoundError\u001b[0m                       Traceback (most recent call last)",
      "\u001b[0;32m<ipython-input-11-e9d67741bdda>\u001b[0m in \u001b[0;36m<module>\u001b[0;34m()\u001b[0m\n\u001b[1;32m      1\u001b[0m \u001b[0;32mimport\u001b[0m \u001b[0msys\u001b[0m\u001b[0;34m\u001b[0m\u001b[0;34m\u001b[0m\u001b[0m\n\u001b[0;32m----> 2\u001b[0;31m \u001b[0;32mimport\u001b[0m \u001b[0mspotipy\u001b[0m\u001b[0;34m\u001b[0m\u001b[0;34m\u001b[0m\u001b[0m\n\u001b[0m\u001b[1;32m      3\u001b[0m \u001b[0;32mimport\u001b[0m \u001b[0mspotipy\u001b[0m\u001b[0;34m.\u001b[0m\u001b[0mutil\u001b[0m \u001b[0;32mas\u001b[0m \u001b[0mutil\u001b[0m\u001b[0;34m\u001b[0m\u001b[0;34m\u001b[0m\u001b[0m\n\u001b[1;32m      4\u001b[0m \u001b[0;34m\u001b[0m\u001b[0m\n\u001b[1;32m      5\u001b[0m \u001b[0midPlaylist\u001b[0m \u001b[0;34m=\u001b[0m \u001b[0;34m'4XoMUd3cPgLeazj8ezngUu'\u001b[0m\u001b[0;34m;\u001b[0m\u001b[0;34m\u001b[0m\u001b[0;34m\u001b[0m\u001b[0m\n",
      "\u001b[0;31mModuleNotFoundError\u001b[0m: No module named 'spotipy'",
      "",
      "\u001b[0;31m---------------------------------------------------------------------------\u001b[0;32m\nNOTE: If your import is failing due to a missing package, you can\nmanually install dependencies using either !pip or !apt.\n\nTo view examples of installing some common dependencies, click the\n\"Open Examples\" button below.\n\u001b[0;31m---------------------------------------------------------------------------\u001b[0m\n"
     ]
    }
   ],
   "source": [
    "import sys\n",
    "import spotipy\n",
    "import spotipy.util as util\n",
    "\n",
    "idPlaylist = '4XoMUd3cPgLeazj8ezngUu';\n",
    "username = 'gixs'\n",
    "\n",
    "\n",
    "def show_tracks(tracks):\n",
    "    for i, item in enumerate(tracks['items']):\n",
    "        track = item['track']\n",
    "        print(\"   %d %32.32s %s\" % (i, track['artists'][0]['name'],\n",
    "            track['name']))\n",
    "\n",
    "\n",
    "def getSinglePlaylist (playlistId, sp, username):\n",
    "    return sp.user_playlist (user = username, playlistId = playlistId, fields=\"tracks, next\")\n",
    "\n",
    "\n",
    "\n",
    "\n",
    "def createClient():\n",
    "    if len(sys.argv) > 1:\n",
    "        username = sys.argv[1]\n",
    "    else:\n",
    "        print(\"Whoops, need your username!\")\n",
    "        print(\"usage: python user_playlists.py [username]\")\n",
    "        sys.exit()\n",
    "\n",
    "        token = util.prompt_for_user_token(username)\n",
    "\n",
    "        if token:\n",
    "            sp = spotipy.Spotify(auth=token)\n",
    "            return sp\n",
    "\n",
    "        else:\n",
    "            print(\"Can't get token for\", username)\n",
    "            return null\n",
    "\n",
    "\n",
    "token = util.prompt_for_user_token(username)\n",
    "\n",
    "if token:\n",
    "  sp = spotipy.Spotify(auth=token)\n",
    "\n",
    "else:\n",
    "  print(\"Can't get token for\", username)\n",
    "\n",
    "singlePlaylist = sp.user_playlist (user = username, playlist_id = idPlaylist, fields=\"tracks, next\")\n",
    "tracks = singlePlaylist ['tracks']"
   ]
  },
  {
   "cell_type": "markdown",
   "metadata": {
    "id": "Y5wl-iUqY4bS"
   },
   "source": [
    "# Dataset analysis"
   ]
  },
  {
   "cell_type": "code",
   "execution_count": 12,
   "metadata": {
    "colab": {
     "base_uri": "https://localhost:8080/",
     "height": 0
    },
    "id": "51HbYbYcgQHE",
    "outputId": "7be30629-9db5-4863-fd5e-b590c53b1b2e"
   },
   "outputs": [
    {
     "name": "stdout",
     "output_type": "stream",
     "text": [
      "<class 'pandas.core.frame.DataFrame'>\n",
      "RangeIndex: 12774191 entries, 0 to 12774190\n",
      "Data columns (total 4 columns):\n",
      " #   Column        Dtype \n",
      "---  ------        ----- \n",
      " 0   user_id       object\n",
      " 1   artistname    object\n",
      " 2   trackname     object\n",
      " 3   playlistname  object\n",
      "dtypes: object(4)\n",
      "memory usage: 389.8+ MB\n",
      "Some General statistics about data are as follows: None\n",
      "Lets look at the summary stats about the data :                                  user_id artistname trackname playlistname\n",
      "count                           12774191   12741100  12774090     12634598\n",
      "unique                             15897     303027   2057995       155522\n",
      "top     4398de6902abde3351347b048fcdc287  Daft Punk   Starred      Starred\n",
      "freq                              295274      35805     11159      1320739\n",
      "The number of rows in the datasets are as follows : 12774191\n",
      " The columns in the data are as follows : Index(['user_id', 'artistname', 'trackname', 'playlistname'], dtype='object')\n"
     ]
    }
   ],
   "source": [
    "print (\"Some General statistics about data are as follows:\",spotify_data.info())\n",
    "print (\"Lets look at the summary stats about the data :\",spotify_data.describe(include ='object'))\n",
    "print (\"The number of rows in the datasets are as follows :\",spotify_data.shape[0])\n",
    "print (\" The columns in the data are as follows :\",spotify_data.columns)"
   ]
  },
  {
   "cell_type": "markdown",
   "metadata": {
    "id": "swwDpVsRp0OZ"
   },
   "source": [
    "First of all, see some analysis on the data."
   ]
  },
  {
   "cell_type": "markdown",
   "metadata": {
    "id": "Pk1EPY6QqfFo"
   },
   "source": [
    "### Here there is the distribution of number of playlist by *user id*."
   ]
  },
  {
   "cell_type": "code",
   "execution_count": 13,
   "metadata": {
    "id": "D_37ClekosRY"
   },
   "outputs": [],
   "source": [
    "spotify_user_summary = spotify_data.groupby(['user_id'])[\"playlistname\"].nunique().reset_index()"
   ]
  },
  {
   "cell_type": "code",
   "execution_count": 14,
   "metadata": {
    "colab": {
     "base_uri": "https://localhost:8080/",
     "height": 517
    },
    "id": "O8zgkrV7gjcC",
    "outputId": "262c88a7-286b-401a-d2e7-23bb0a6a7369"
   },
   "outputs": [
    {
     "data": {
      "image/png": "[encoded data removed]",
      "text/plain": [
       "<Figure size 432x576 with 2 Axes>"
      ]
     },
     "metadata": {
      "needs_background": "light",
      "tags": []
     },
     "output_type": "display_data"
    }
   ],
   "source": [
    "#GRAPH\n",
    "### Just for better visualisation remove very high playlist\n",
    "%matplotlib inline\n",
    "fig, ax = plt.subplots(2, figsize=(6,8))\n",
    "sns.distplot(spotify_user_summary['playlistname'], hist=True,ax = ax[0])\n",
    "ax[0].set_title(\"Number of playlist per user\")\n",
    "spotify_user_summary = spotify_user_summary[spotify_user_summary['playlistname'] <= 50]\n",
    "sns.distplot(spotify_user_summary['playlistname'], hist=True,ax=ax[1])\n",
    "ax[1].set_title(\"Number of playlist per user (where <=50)\")\n",
    "plt.show()"
   ]
  },
  {
   "cell_type": "markdown",
   "metadata": {
    "id": "0pmcqTk4qI4l"
   },
   "source": [
    "###Then visualize the distribution of number of *artist* for each *user_id*."
   ]
  },
  {
   "cell_type": "code",
   "execution_count": 15,
   "metadata": {
    "id": "YALV2fCbo7q8"
   },
   "outputs": [],
   "source": [
    "spotify_user_summary = spotify_data.groupby(['user_id'])[\"artistname\"].nunique().reset_index()"
   ]
  },
  {
   "cell_type": "code",
   "execution_count": 16,
   "metadata": {
    "colab": {
     "base_uri": "https://localhost:8080/",
     "height": 517
    },
    "id": "LLtH4YtGhMBM",
    "outputId": "9dc71ef7-3f58-4389-9a0b-ef07e142513a"
   },
   "outputs": [
    {
     "data": {
      "image/png": "[encoded data removed]",
      "text/plain": [
       "<Figure size 432x576 with 2 Axes>"
      ]
     },
     "metadata": {
      "needs_background": "light",
      "tags": []
     },
     "output_type": "display_data"
    }
   ],
   "source": [
    "#GRAPH\n",
    "\n",
    "%matplotlib inline\n",
    "### Just for better visualisation remove very high playlist\n",
    "fig, ax = plt.subplots(2, figsize=(6,8))\n",
    "sns.distplot(spotify_user_summary[\"artistname\"], hist=True,ax = ax[0])\n",
    "ax[0].set_title(\"Number of artist per user\")\n",
    "spotify_user_summary = spotify_user_summary[spotify_user_summary[\"artistname\"] <= 500]\n",
    "sns.distplot(spotify_user_summary[\"artistname\"], hist=True,ax=ax[1])\n",
    "ax[1].set_title(\"Number of artist per user (where <=500)\")\n",
    "plt.show()"
   ]
  },
  {
   "cell_type": "markdown",
   "metadata": {
    "id": "CYcMiTK6quoK"
   },
   "source": [
    "### Then check the most common playlist names.\n",
    "I removed the first 3 playlist that was given by spotify:\n",
    "\n",
    "\n",
    "*   Starred\n",
    "*   Liked from Radio\n",
    "*   Favorites de la radio\n",
    "\n"
   ]
  },
  {
   "cell_type": "code",
   "execution_count": 33,
   "metadata": {
    "colab": {
     "base_uri": "https://localhost:8080/",
     "height": 536
    },
    "id": "kIjUzPC9hQRL",
    "outputId": "2da8f78b-0c41-41c8-d879-e1dfbd640e8c"
   },
   "outputs": [
    {
     "data": {
      "text/plain": [
       "<matplotlib.axes._subplots.AxesSubplot at 0x7f57fa8d7290>"
      ]
     },
     "execution_count": 33,
     "metadata": {
      "tags": []
     },
     "output_type": "execute_result"
    },
    {
     "data": {
      "image/png": "[encoded data removed]",
      "text/plain": [
       "<Figure size 864x432 with 1 Axes>"
      ]
     },
     "metadata": {
      "needs_background": "light",
      "tags": []
     },
     "output_type": "display_data"
    }
   ],
   "source": [
    "%matplotlib inline\n",
    "### Lets have a look at most common playlist\n",
    "## We could have aslo created a word cloud\n",
    "spotify_data['playlistname'].value_counts()[3:40].plot(kind= 'bar',title=\"Most Common Playlist names\",figsize = (12,6))"
   ]
  },
  {
   "cell_type": "markdown",
   "metadata": {
    "id": "3bMu_K4TrIMk"
   },
   "source": [
    "### Here visualize the top 50 Most Popular Artisti"
   ]
  },
  {
   "cell_type": "code",
   "execution_count": 40,
   "metadata": {
    "colab": {
     "base_uri": "https://localhost:8080/",
     "height": 527
    },
    "id": "GZ_-vNjdP5Tw",
    "outputId": "7ba2679c-abaf-4ec2-d552-b49b5f1d46ed"
   },
   "outputs": [
    {
     "data": {
      "text/plain": [
       "<matplotlib.axes._subplots.AxesSubplot at 0x7f57f9e07a10>"
      ]
     },
     "execution_count": 40,
     "metadata": {
      "tags": []
     },
     "output_type": "execute_result"
    },
    {
     "data": {
      "image/png": "[encoded data removed]",
      "text/plain": [
       "<Figure size 1008x432 with 1 Axes>"
      ]
     },
     "metadata": {
      "needs_background": "light",
      "tags": []
     },
     "output_type": "display_data"
    }
   ],
   "source": [
    "%matplotlib inline\n",
    "spotify_data['artistname'].value_counts()[0:50].plot(kind= 'bar',title=\"Top 50 Most Popular Artist \",figsize = (14,6))"
   ]
  },
  {
   "cell_type": "markdown",
   "metadata": {
    "id": "IGeO9UVErPvP"
   },
   "source": [
    "### Here visualize the top 50 Most Popular Songs, removing the song that have common name like:\n",
    "\n",
    "\n",
    "*   Starred\n",
    "*   Intro\n",
    "*   Home\n",
    "*   Closer\n",
    "\n"
   ]
  },
  {
   "cell_type": "code",
   "execution_count": 39,
   "metadata": {
    "colab": {
     "base_uri": "https://localhost:8080/",
     "height": 554
    },
    "id": "nnVNKjKKQLgq",
    "outputId": "6f6ecd98-ac83-47fd-9e0a-6ed8d68be8c7"
   },
   "outputs": [
    {
     "data": {
      "text/plain": [
       "<matplotlib.axes._subplots.AxesSubplot at 0x7f57f9f52d90>"
      ]
     },
     "execution_count": 39,
     "metadata": {
      "tags": []
     },
     "output_type": "execute_result"
    },
    {
     "data": {
      "image/png": "[encoded data removed]",
      "text/plain": [
       "<Figure size 1008x432 with 1 Axes>"
      ]
     },
     "metadata": {
      "needs_background": "light",
      "tags": []
     },
     "output_type": "display_data"
    }
   ],
   "source": [
    "%matplotlib inline\n",
    "### Lets have a look at most common playlist\n",
    "## We could have aslo created a word cloud\n",
    "spotify_data['trackname'].value_counts()[4:54].plot(kind= 'bar',title=\"Top 50 Most Popular Songs  \",figsize = (14,6))"
   ]
  },
  {
   "cell_type": "markdown",
   "metadata": {
    "id": "aISKutalsM6B"
   },
   "source": [
    "# Data Preprocessing \n",
    "In this section there is the preprocessing of data."
   ]
  },
  {
   "cell_type": "markdown",
   "metadata": {
    "id": "bhRIqKCIsWOh"
   },
   "source": [
    "First of all, let's drop some useless rows:\n",
    "\n",
    "\n",
    "*   The rows containing null value\n",
    "*   The rows that contain the songs with \"intro, home, starred, closer\", that's beacause it will affect negatively the algorith of FP-growth.\n",
    "\n"
   ]
  },
  {
   "cell_type": "code",
   "execution_count": 20,
   "metadata": {
    "id": "92gRhvIPQSt3"
   },
   "outputs": [],
   "source": [
    "tracklist = spotify_data['trackname'].unique()"
   ]
  },
  {
   "cell_type": "code",
   "execution_count": 21,
   "metadata": {
    "id": "jqaOdNeSQqnX"
   },
   "outputs": [],
   "source": [
    "spotify_data.dropna(inplace = True)\n",
    "spotify_data = spotify_data[~spotify_data['trackname'].str.startswith(\"intro\", na=False)]\n",
    "spotify_data = spotify_data[~spotify_data['trackname'].str.startswith(\"Home\", na=False)]\n",
    "spotify_data = spotify_data[~spotify_data['trackname'].str.contains(\"Starred\", na=False)]\n",
    "spotify_data = spotify_data[~spotify_data['trackname'].str.startswith(\"Closer\", na=False)]"
   ]
  },
  {
   "cell_type": "markdown",
   "metadata": {
    "id": "BWMRoDvFQmjO"
   },
   "source": [
    "## Now lets define function which creates a dictionary and convert songs names to dictionary. \n",
    "That's helpful to reduce the computation cost. Obviously *Integer* are lighter respcet to *String*."
   ]
  },
  {
   "cell_type": "code",
   "execution_count": 22,
   "metadata": {
    "id": "FV_k7vKQQr6o"
   },
   "outputs": [],
   "source": [
    "def create_dict(dataset, column):\n",
    "    ''' Takes two input from user column name and dataset name and return dictionary with hash map '''\n",
    "    unique_list = dataset[column].unique()\n",
    "    out_dict = {}\n",
    "    out_dict1 = {}\n",
    "    \n",
    "    for j,i in enumerate(unique_list):\n",
    "        out_dict[i.lower()] = str(j)\n",
    "        out_dict1[str(j)] = i.lower()\n",
    "        \n",
    "    print (\"Number of distinct in vocab is :\",j)\n",
    "    return (out_dict,out_dict1)"
   ]
  },
  {
   "cell_type": "code",
   "execution_count": 23,
   "metadata": {
    "colab": {
     "base_uri": "https://localhost:8080/",
     "height": 0
    },
    "id": "dw5U9fZhQwPS",
    "outputId": "8860568f-59af-48d6-e4cd-7790400bc308"
   },
   "outputs": [
    {
     "name": "stdout",
     "output_type": "stream",
     "text": [
      "Number of distinct in vocab is : 1976546\n",
      "Number of distinct in vocab is : 285437\n"
     ]
    }
   ],
   "source": [
    "track_map, track_map_comp= create_dict(spotify_data,'trackname')\n",
    "artist_map,artist_map_comp = create_dict(spotify_data,'artistname')"
   ]
  },
  {
   "cell_type": "markdown",
   "metadata": {
    "id": "iuI3O-oatWBP"
   },
   "source": [
    "### Save the dictionary as pickle file, so it will be not needed to create dict every time, but we can upload as pickle."
   ]
  },
  {
   "cell_type": "code",
   "execution_count": 24,
   "metadata": {
    "id": "uU0R2nswQywe"
   },
   "outputs": [],
   "source": [
    "with open('track_map_dict.pickle','wb') as track_file:\n",
    "    pickle.dump(track_map,track_file)\n",
    "with open('track_map_comp_dict.pickle','wb') as track_file_comp:\n",
    "    pickle.dump(track_map_comp,track_file_comp)"
   ]
  },
  {
   "cell_type": "code",
   "execution_count": 25,
   "metadata": {
    "id": "nLYzdU7cRMSR"
   },
   "outputs": [],
   "source": [
    "with open('artist_map_dict.pickle','wb') as artist_file:\n",
    "    pickle.dump(artist_map,artist_file)\n",
    "with open('artist_map_comp_dict.pickle','wb') as artist_file_comp:\n",
    "    pickle.dump(artist_map_comp,artist_file_comp)"
   ]
  },
  {
   "cell_type": "code",
   "execution_count": 10,
   "metadata": {
    "colab": {
     "base_uri": "https://localhost:8080/"
    },
    "id": "HICfuA13Seqr",
    "outputId": "b84a4ae1-f5da-4de1-97a6-192a0d902e00"
   },
   "outputs": [
    {
     "name": "stdout",
     "output_type": "stream",
     "text": [
      "Track dict has 1864427 observations\n",
      "Artist dict has 277987 observations\n"
     ]
    }
   ],
   "source": [
    "### Load methods\n",
    "with open('track_map_dict.pickle','rb') as dict1:\n",
    "    track_dict= pickle.load( dict1)\n",
    "print (\"Track dict has {} observations\".format(len(track_dict)))\n",
    "#### Load the prcikle file for artist to numeric\n",
    "with open('artist_map_dict.pickle','rb') as dict2:\n",
    "    artist_dict = pickle.load(dict2)\n",
    "print (\"Artist dict has {} observations\".format(len(artist_dict)))"
   ]
  },
  {
   "cell_type": "code",
   "execution_count": 27,
   "metadata": {
    "colab": {
     "base_uri": "https://localhost:8080/",
     "height": 0
    },
    "id": "pcN7HmX9S6Hk",
    "outputId": "323f7501-dce8-4da2-829b-9f8f9a1355dd"
   },
   "outputs": [
    {
     "name": "stdout",
     "output_type": "stream",
     "text": [
      "Data before mapping dict :                             user_id  ...    playlistname\n",
      "0  9cc0cfd4d7d7885102480dd99e7a90d6  ...  HARD ROCK 2010\n",
      "1  9cc0cfd4d7d7885102480dd99e7a90d6  ...  HARD ROCK 2010\n",
      "2  9cc0cfd4d7d7885102480dd99e7a90d6  ...  HARD ROCK 2010\n",
      "3  9cc0cfd4d7d7885102480dd99e7a90d6  ...  HARD ROCK 2010\n",
      "4  9cc0cfd4d7d7885102480dd99e7a90d6  ...  HARD ROCK 2010\n",
      "\n",
      "[5 rows x 4 columns]\n",
      "Data after mapping dict :\n",
      "                            user_id artistname trackname    playlistname\n",
      "0  9cc0cfd4d7d7885102480dd99e7a90d6          0   1514247  HARD ROCK 2010\n",
      "1  9cc0cfd4d7d7885102480dd99e7a90d6      49541    544038  HARD ROCK 2010\n",
      "2  9cc0cfd4d7d7885102480dd99e7a90d6          2         2  HARD ROCK 2010\n",
      "3  9cc0cfd4d7d7885102480dd99e7a90d6      49541   1516450  HARD ROCK 2010\n",
      "4  9cc0cfd4d7d7885102480dd99e7a90d6          0         4  HARD ROCK 2010\n"
     ]
    }
   ],
   "source": [
    "### Now we will use this mapping to convert names to numeric\n",
    "print (\"Data before mapping dict :\", spotify_data.head(5))\n",
    "spotify_data['trackname'] = spotify_data['trackname'].str.lower().map(track_dict)\n",
    "spotify_data['artistname'] = spotify_data['artistname'].str.lower().map(artist_dict)\n",
    "print (\"Data after mapping dict :\")\n",
    "print (spotify_data.head(5))"
   ]
  },
  {
   "cell_type": "markdown",
   "metadata": {
    "id": "uaOqrzgctye2"
   },
   "source": [
    "### In order to get the file in the format **[playlistname, array_of_track]** it is necessary to create a zip_list method to aplly on the dataset."
   ]
  },
  {
   "cell_type": "code",
   "execution_count": 28,
   "metadata": {
    "id": "m-Jf-zt6S79b"
   },
   "outputs": [],
   "source": [
    "### We want to create a list of songs in zip file \n",
    "def zip_list(x):\n",
    "    return ([int(z) for z in x])"
   ]
  },
  {
   "cell_type": "code",
   "execution_count": 29,
   "metadata": {
    "id": "9h0j2CzhTNkm"
   },
   "outputs": [],
   "source": [
    "spotify_summary = spotify_data.groupby(['user_id','playlistname'])['trackname'].apply(zip_list).reset_index()"
   ]
  },
  {
   "cell_type": "code",
   "execution_count": 30,
   "metadata": {
    "colab": {
     "base_uri": "https://localhost:8080/",
     "height": 0
    },
    "id": "3FLsj437TP5X",
    "outputId": "13d74399-1c5a-45ce-9fed-83ac05c1fd28"
   },
   "outputs": [
    {
     "name": "stdout",
     "output_type": "stream",
     "text": [
      " Distinct playlist after summarizing the data is : 229155\n",
      " The data looks like this :\n",
      "                            user_id  ...                                          trackname\n",
      "0  00055176fea33f6e027cd3302289378b  ...  [9608, 2586, 46634, 9609, 1137195, 37306, 6327...\n",
      "1  0007f3dd09c91198371454c608d47f22  ...                [174795, 1537, 877677, 17529, 5292]\n",
      "2  0007f3dd09c91198371454c608d47f22  ...  [1852573, 174795, 1682684, 954395, 19579, 1478...\n",
      "3  0007f3dd09c91198371454c608d47f22  ...                                 [1509309, 1446920]\n",
      "4  000b0f32b5739f052b9d40fcc5c41079  ...                                  [1280348, 487024]\n",
      "\n",
      "[5 rows x 3 columns]\n"
     ]
    }
   ],
   "source": [
    "print (\" Distinct playlist after summarizing the data is :\",spotify_summary.shape[0])\n",
    "print (\" The data looks like this :\")\n",
    "print (spotify_summary.head(5))"
   ]
  },
  {
   "cell_type": "code",
   "execution_count": 31,
   "metadata": {
    "id": "KXvaBedgTSU5"
   },
   "outputs": [],
   "source": [
    "### We will Dump this data in the pickle file and work in it later\n",
    "with open(\"spotify_summary.pickle\",'wb') as pick_data:\n",
    "    pickle.dump(spotify_summary,pick_data)"
   ]
  },
  {
   "cell_type": "markdown",
   "metadata": {
    "id": "8JF1AAHduULu"
   },
   "source": [
    "### I created also the playlist dictionary, but I didn't utilize for this script."
   ]
  },
  {
   "cell_type": "code",
   "execution_count": 32,
   "metadata": {
    "colab": {
     "base_uri": "https://localhost:8080/",
     "height": 0
    },
    "id": "3Anlhp8kwgws",
    "outputId": "7fcaf68a-93a8-4153-f6d5-d03b5fb1c36b"
   },
   "outputs": [
    {
     "name": "stdout",
     "output_type": "stream",
     "text": [
      "Number of distinct in vocab is : 155321\n"
     ]
    }
   ],
   "source": [
    "playlist_map, playlist_map_comp= create_dict(spotify_data,'playlistname')"
   ]
  },
  {
   "cell_type": "code",
   "execution_count": 33,
   "metadata": {
    "id": "kbHGaTZLwwxw"
   },
   "outputs": [],
   "source": [
    "with open('playlist_map_dict.pickle','wb') as playlist_file:\n",
    "    pickle.dump(playlist_map,playlist_file)\n",
    "with open('playlist_map_comp_dict.pickle','wb') as playlist_file_comp:\n",
    "    pickle.dump(playlist_map_comp,playlist_file_comp)"
   ]
  },
  {
   "cell_type": "code",
   "execution_count": 34,
   "metadata": {
    "colab": {
     "base_uri": "https://localhost:8080/",
     "height": 0
    },
    "id": "-ZuZ-IavSnWM",
    "outputId": "b836fc7f-95fc-41fd-d95e-2c9b1abc78e1"
   },
   "outputs": [
    {
     "name": "stdout",
     "output_type": "stream",
     "text": [
      "Data before mapping dict :                             user_id artistname trackname    playlistname\n",
      "0  9cc0cfd4d7d7885102480dd99e7a90d6          0   1514247  HARD ROCK 2010\n",
      "1  9cc0cfd4d7d7885102480dd99e7a90d6      49541    544038  HARD ROCK 2010\n",
      "2  9cc0cfd4d7d7885102480dd99e7a90d6          2         2  HARD ROCK 2010\n",
      "3  9cc0cfd4d7d7885102480dd99e7a90d6      49541   1516450  HARD ROCK 2010\n",
      "4  9cc0cfd4d7d7885102480dd99e7a90d6          0         4  HARD ROCK 2010\n",
      "Data after mapping dict :\n",
      "                            user_id  ...                                          trackname\n",
      "0  00055176fea33f6e027cd3302289378b  ...  [9608, 2586, 46634, 9609, 1137195, 37306, 6327...\n",
      "1  0007f3dd09c91198371454c608d47f22  ...                [174795, 1537, 877677, 17529, 5292]\n",
      "2  0007f3dd09c91198371454c608d47f22  ...  [1852573, 174795, 1682684, 954395, 19579, 1478...\n",
      "3  0007f3dd09c91198371454c608d47f22  ...                                 [1509309, 1446920]\n",
      "4  000b0f32b5739f052b9d40fcc5c41079  ...                                  [1280348, 487024]\n",
      "\n",
      "[5 rows x 3 columns]\n"
     ]
    }
   ],
   "source": [
    "print (\"Data before mapping dict :\", spotify_data.head(5))\n",
    "spotify_summary['playlistname'] = spotify_summary['playlistname'].str.lower().map(playlist_map)\n",
    "print (\"Data after mapping dict :\")\n",
    "print (spotify_summary.head(5))"
   ]
  },
  {
   "cell_type": "markdown",
   "metadata": {
    "id": "5yIm9_sRvD8s"
   },
   "source": [
    "# FP Growth"
   ]
  },
  {
   "cell_type": "markdown",
   "metadata": {
    "id": "vruo6yotwF0V"
   },
   "source": [
    "## Now setup the playlist in which the predict needs to be done."
   ]
  },
  {
   "cell_type": "code",
   "execution_count": 8,
   "metadata": {
    "id": "CG70gh2ms-Yl"
   },
   "outputs": [],
   "source": [
    "playlist_string = [\"Till I Collapse\", \"Lose Yourself\", \"Love is a Laserquest\", \"Madness\", \"Man in Black\", \"Notion\", \"The Song You Sing\", \"Complicated\", \"Get lucky\"]"
   ]
  },
  {
   "cell_type": "code",
   "execution_count": 7,
   "metadata": {
    "id": "Dl8b3KJvt162"
   },
   "outputs": [],
   "source": [
    "def playlist_to_int (playlist_string, dict):\n",
    "  result = []\n",
    "  for x in playlist_string:\n",
    "    if (x.lower() in dict):\n",
    "      result.append(int(dict.get(x.lower())))\n",
    "  \n",
    "  return result\n"
   ]
  },
  {
   "cell_type": "code",
   "execution_count": 11,
   "metadata": {
    "id": "5Jb1yxGWvJ4T"
   },
   "outputs": [],
   "source": [
    "playlist_int = playlist_to_int(playlist_string, track_dict)"
   ]
  },
  {
   "cell_type": "markdown",
   "metadata": {
    "id": "rkkcY2G2wiy8"
   },
   "source": [
    "Select the needed column on dataset"
   ]
  },
  {
   "cell_type": "code",
   "execution_count": 39,
   "metadata": {
    "id": "J9nz9k0dlHR8"
   },
   "outputs": [],
   "source": [
    "spotify_summary_pandas_selected = spotify_summary[['playlistname', 'trackname']]"
   ]
  },
  {
   "cell_type": "code",
   "execution_count": 40,
   "metadata": {
    "colab": {
     "base_uri": "https://localhost:8080/",
     "height": 418
    },
    "id": "PLOFSPzpEiWo",
    "outputId": "c8d54a62-b376-480a-b78e-12043f13d560"
   },
   "outputs": [
    {
     "data": {
      "text/html": [
       "<div>\n",
       "<style scoped>\n",
       "    .dataframe tbody tr th:only-of-type {\n",
       "        vertical-align: middle;\n",
       "    }\n",
       "\n",
       "    .dataframe tbody tr th {\n",
       "        vertical-align: top;\n",
       "    }\n",
       "\n",
       "    .dataframe thead th {\n",
       "        text-align: right;\n",
       "    }\n",
       "</style>\n",
       "<table border=\"1\" class=\"dataframe\">\n",
       "  <thead>\n",
       "    <tr style=\"text-align: right;\">\n",
       "      <th></th>\n",
       "      <th>playlistname</th>\n",
       "      <th>trackname</th>\n",
       "    </tr>\n",
       "  </thead>\n",
       "  <tbody>\n",
       "    <tr>\n",
       "      <th>0</th>\n",
       "      <td>45800</td>\n",
       "      <td>[9608, 2586, 46634, 9609, 1137195, 37306, 6327...</td>\n",
       "    </tr>\n",
       "    <tr>\n",
       "      <th>1</th>\n",
       "      <td>850</td>\n",
       "      <td>[174795, 1537, 877677, 17529, 5292]</td>\n",
       "    </tr>\n",
       "    <tr>\n",
       "      <th>2</th>\n",
       "      <td>95327</td>\n",
       "      <td>[1852573, 174795, 1682684, 954395, 19579, 1478...</td>\n",
       "    </tr>\n",
       "    <tr>\n",
       "      <th>3</th>\n",
       "      <td>134508</td>\n",
       "      <td>[1509309, 1446920]</td>\n",
       "    </tr>\n",
       "    <tr>\n",
       "      <th>4</th>\n",
       "      <td>28210</td>\n",
       "      <td>[1280348, 487024]</td>\n",
       "    </tr>\n",
       "    <tr>\n",
       "      <th>...</th>\n",
       "      <td>...</td>\n",
       "      <td>...</td>\n",
       "    </tr>\n",
       "    <tr>\n",
       "      <th>229150</th>\n",
       "      <td>121343</td>\n",
       "      <td>[181459, 2313, 63638, 2890, 2954, 1682677, 167...</td>\n",
       "    </tr>\n",
       "    <tr>\n",
       "      <th>229151</th>\n",
       "      <td>121344</td>\n",
       "      <td>[233650, 1457, 62517, 106134, 1415671, 502479,...</td>\n",
       "    </tr>\n",
       "    <tr>\n",
       "      <th>229152</th>\n",
       "      <td>121345</td>\n",
       "      <td>[196633, 1531, 197104, 24277, 114148, 37306, 6...</td>\n",
       "    </tr>\n",
       "    <tr>\n",
       "      <th>229153</th>\n",
       "      <td>121346</td>\n",
       "      <td>[31617, 1516653, 141317, 37189, 1954879, 26123...</td>\n",
       "    </tr>\n",
       "    <tr>\n",
       "      <th>229154</th>\n",
       "      <td>146464</td>\n",
       "      <td>[141002, 266905, 2566, 38918, 1488929, 1850302...</td>\n",
       "    </tr>\n",
       "  </tbody>\n",
       "</table>\n",
       "<p>229155 rows × 2 columns</p>\n",
       "</div>"
      ],
      "text/plain": [
       "       playlistname                                          trackname\n",
       "0             45800  [9608, 2586, 46634, 9609, 1137195, 37306, 6327...\n",
       "1               850                [174795, 1537, 877677, 17529, 5292]\n",
       "2             95327  [1852573, 174795, 1682684, 954395, 19579, 1478...\n",
       "3            134508                                 [1509309, 1446920]\n",
       "4             28210                                  [1280348, 487024]\n",
       "...             ...                                                ...\n",
       "229150       121343  [181459, 2313, 63638, 2890, 2954, 1682677, 167...\n",
       "229151       121344  [233650, 1457, 62517, 106134, 1415671, 502479,...\n",
       "229152       121345  [196633, 1531, 197104, 24277, 114148, 37306, 6...\n",
       "229153       121346  [31617, 1516653, 141317, 37189, 1954879, 26123...\n",
       "229154       146464  [141002, 266905, 2566, 38918, 1488929, 1850302...\n",
       "\n",
       "[229155 rows x 2 columns]"
      ]
     },
     "execution_count": 40,
     "metadata": {
      "tags": []
     },
     "output_type": "execute_result"
    }
   ],
   "source": [
    "spotify_summary_pandas_selected"
   ]
  },
  {
   "cell_type": "code",
   "execution_count": 41,
   "metadata": {
    "id": "ftX-l2Gimwyg"
   },
   "outputs": [],
   "source": [
    "### We will Dump this data in the pickle file to work in it later\n",
    "with open(\"spotify_summary_pandas_selected.pickle\",'wb') as pick_data:\n",
    "    pickle.dump(spotify_summary_pandas_selected,pick_data)"
   ]
  },
  {
   "cell_type": "markdown",
   "metadata": {
    "id": "F7OksSGVrJjI"
   },
   "source": [
    "## From here can start the spark code"
   ]
  },
  {
   "cell_type": "code",
   "execution_count": 1,
   "metadata": {
    "id": "tqxaQHJSrLw8"
   },
   "outputs": [],
   "source": [
    "import pandas as pd\n",
    "import requests\n",
    "import numpy as np\n",
    "\n",
    "\n",
    "### Load the required packages in the required format\n",
    "\n",
    "%matplotlib notebook\n",
    "import matplotlib.pyplot as plt\n",
    "import seaborn as sns\n",
    "import pickle\n",
    "plt.style.use('ggplot')\n",
    "import warnings\n",
    "warnings.filterwarnings(\"ignore\")\n",
    "\n",
    "import pyspark\n"
   ]
  },
  {
   "cell_type": "code",
   "execution_count": 2,
   "metadata": {
    "id": "Hn9OhH27iZ-G"
   },
   "outputs": [],
   "source": [
    "from pyspark.sql import SparkSession\n",
    "\n",
    "spark = SparkSession.builder.appName(\"Practise\").config(\"spark.executor.memory\", \"5g\").config(\"spark.driver.memory\", \"5g\").getOrCreate()"
   ]
  },
  {
   "cell_type": "code",
   "execution_count": 3,
   "metadata": {
    "id": "e84uVGH4m3hC"
   },
   "outputs": [],
   "source": [
    "with open(\"spotify_summary_pandas_selected.pickle\",'rb') as pick_data:\n",
    "    spotify_summary_pandas_selected = pickle.load(pick_data)"
   ]
  },
  {
   "cell_type": "code",
   "execution_count": 4,
   "metadata": {
    "id": "U395O_O_jIVf"
   },
   "outputs": [],
   "source": [
    "spotify_dataframe_from_pickle = spark.createDataFrame(spotify_summary_pandas_selected)"
   ]
  },
  {
   "cell_type": "markdown",
   "metadata": {
    "id": "PICe81jKw9gC"
   },
   "source": [
    "Process the FP Growth in the whole dataset is not possible for this machine. So we need to create a subset from our big main dataset: \n",
    "\n",
    "---\n",
    "The roole chosen for the subset is:\n",
    "if a song that are in the playlist in which I need to perform the prediction appears in one playlist in the dataset add this playlist to the dataset.\n"
   ]
  },
  {
   "cell_type": "code",
   "execution_count": 5,
   "metadata": {
    "id": "TVdyB769jRLv"
   },
   "outputs": [],
   "source": [
    "from pyspark.sql.functions import array_contains\n",
    "\n",
    "\n",
    "def create_dataframe(dataset, playlist):\n",
    "  notAssegnato = True\n",
    "  filtred_array = []\n",
    "  for i in range (len(playlist)):\n",
    "    filtred_array.append(dataset.filter(array_contains(dataset.trackname, playlist[i])))\n",
    "    if notAssegnato:\n",
    "      result = filtred_array[0]\n",
    "      notAssegnato = False\n",
    "    else:\n",
    "      result = result.union(filtred_array[i])\n",
    "  return result"
   ]
  },
  {
   "cell_type": "code",
   "execution_count": 12,
   "metadata": {
    "id": "dzv4ZaKXkydg"
   },
   "outputs": [],
   "source": [
    "filtred_dataset = create_dataframe(spotify_dataframe_from_pickle, playlist_int)"
   ]
  },
  {
   "cell_type": "markdown",
   "metadata": {
    "id": "trvemu-51OCt"
   },
   "source": [
    "Now eliminate the row with duplicate because each item in transaction must be unique. "
   ]
  },
  {
   "cell_type": "code",
   "execution_count": 13,
   "metadata": {
    "id": "cZRiBEFMh0Kg"
   },
   "outputs": [],
   "source": [
    "from pyspark.sql.functions import array_distinct\n",
    "filtred_dataset = filtred_dataset.withColumn(\"arraycol_without_dupes\", array_distinct(\"trackname\"))"
   ]
  },
  {
   "cell_type": "code",
   "execution_count": 14,
   "metadata": {
    "colab": {
     "base_uri": "https://localhost:8080/"
    },
    "id": "YqAOuKxIia5o",
    "outputId": "6427f85e-63ed-4779-f978-2660358356ab"
   },
   "outputs": [
    {
     "data": {
      "text/plain": [
       "DataFrame[playlistname: string, arraycol_without_dupes: array<bigint>]"
      ]
     },
     "execution_count": 14,
     "metadata": {
      "tags": []
     },
     "output_type": "execute_result"
    }
   ],
   "source": [
    "filtred_dataset = filtred_dataset.select('playlistname','arraycol_without_dupes')\n",
    "filtred_dataset.cache()"
   ]
  },
  {
   "cell_type": "markdown",
   "metadata": {
    "id": "arvES-j114cD"
   },
   "source": [
    "## There is the code for the FPGrowth algorithm.\n",
    "I started with an high *minSupport* but in many transaction is not a good idea -> no association rules will not be found.\n",
    "\n",
    "Then i proceed with a low minSupport, but this machine crashes after some cycles, beacuse the Tree was too big.\n",
    "\n",
    "My last attempt was at 0.05, that's a good minSupport, with minConfidence of 0.6.\n",
    "I found severeal association rules, below rappresented."
   ]
  },
  {
   "cell_type": "code",
   "execution_count": 15,
   "metadata": {
    "colab": {
     "base_uri": "https://localhost:8080/"
    },
    "id": "3m_dKfE4WK_9",
    "outputId": "95939c8b-e593-47a1-e6a0-92762ab11b03"
   },
   "outputs": [
    {
     "name": "stdout",
     "output_type": "stream",
     "text": [
      "+---------+----+\n",
      "|    items|freq|\n",
      "+---------+----+\n",
      "|   [3339]| 249|\n",
      "|[1144260]| 242|\n",
      "|[1731989]| 253|\n",
      "|[1951486]| 245|\n",
      "|  [22670]| 235|\n",
      "|[1663144]| 258|\n",
      "|[1731998]| 261|\n",
      "|[1528087]| 239|\n",
      "|  [20720]| 265|\n",
      "|  [11688]| 283|\n",
      "|[1299148]| 346|\n",
      "| [783311]| 270|\n",
      "| [477019]| 322|\n",
      "|[1619510]| 289|\n",
      "| [602685]| 277|\n",
      "|[1283206]| 335|\n",
      "| [264868]| 296|\n",
      "| [703061]| 303|\n",
      "|  [11490]| 311|\n",
      "|    [953]| 430|\n",
      "+---------+----+\n",
      "only showing top 20 rows\n",
      "\n",
      "+--------------------+----------+------------------+------------------+--------------------+\n",
      "|          antecedent|consequent|        confidence|              lift|             support|\n",
      "+--------------------+----------+------------------+------------------+--------------------+\n",
      "|[1273233, 1198588...| [1273225]|0.9919224555735057| 5.617703171191326| 0.13077742279020235|\n",
      "|[1273233, 1198588...| [1307189]|0.9983844911147012| 5.830118390278012|   0.131629392971246|\n",
      "|[1273233, 1198588...| [1307182]|0.9935379644588045| 6.329254739666332| 0.13099041533546327|\n",
      "|[1273233, 1198588...| [1163492]|0.9951534733441034| 6.655620452066333| 0.13120340788072418|\n",
      "|[1273233, 1198588...| [1273224]|0.9951534733441034| 6.155791248156213| 0.13120340788072418|\n",
      "|[1273233, 1198588...| [1273234]|0.9951534733441034| 6.850799937464172| 0.13120340788072418|\n",
      "|[1273233, 1198588...| [1307139]|0.9951534733441034|  6.75179993836787| 0.13120340788072418|\n",
      "|[77923, 11218, 36...| [1860817]|  0.99581589958159|13.473647402119784|0.050692225772097976|\n",
      "|[1198588, 1163492...| [1273233]|0.9887278582930756| 7.130687088611352| 0.13077742279020235|\n",
      "|[1198588, 1163492...|  [361336]|0.9951690821256038| 5.847708185957083|   0.131629392971246|\n",
      "|[1198588, 1163492...| [1273225]|0.9967793880837359|  5.64521016532345| 0.13184238551650693|\n",
      "|[1198588, 1163492...| [1307189]|               1.0|  5.83955223880597| 0.13226837060702876|\n",
      "|[1198588, 1163492...| [1273231]|0.9967793880837359| 5.176857552049934| 0.13184238551650693|\n",
      "|[1198588, 1163492...| [1307139]|0.9919484702093397| 6.730055011030131| 0.13120340788072418|\n",
      "|[1198588, 1163492...| [1273234]|0.9935587761674718|6.8398217802144865|  0.1314164004259851|\n",
      "|[1273234, 1307139...| [1273233]|0.9967373572593801|7.1884514475158054|  0.1301384451544196|\n",
      "|[1273234, 1307139...| [1273232]|               1.0| 4.825282631038027| 0.13056443024494144|\n",
      "|[1273234, 1307139...| [1307182]|0.9967373572593801| 6.349636217547882|  0.1301384451544196|\n",
      "|[1273234, 1307139...| [1163492]|0.9951060358890701| 6.655303188745276|  0.1299254526091587|\n",
      "|[1273234, 1307139...| [1273224]|0.9967373572593801| 6.165588790952291|  0.1301384451544196|\n",
      "+--------------------+----------+------------------+------------------+--------------------+\n",
      "only showing top 20 rows\n",
      "\n",
      "+------------+----------------------+--------------------+\n",
      "|playlistname|arraycol_without_dupes|          prediction|\n",
      "+------------+----------------------+--------------------+\n",
      "|       11747|  [599689, 599690, ...|[6663, 552784, 12...|\n",
      "|      150290|  [57180, 65593, 59...|[1249398, 552784,...|\n",
      "|       31722|  [599355, 57180, 6...|[1249398, 552784,...|\n",
      "|       50570|  [1113638, 1113639...|                  []|\n",
      "|       37257|  [684554, 684626, ...|                  []|\n",
      "|       24777|  [496551, 496552, ...|            [658319]|\n",
      "|       65907|  [314, 574, 56057,...|                  []|\n",
      "|      124241|  [31509, 1708654, ...|            [552784]|\n",
      "|       24424|  [650221, 878172, ...|            [658319]|\n",
      "|         751|  [31507, 31508, 31...|[1249398, 669221,...|\n",
      "|       11747|  [493538, 897455, ...|[467548, 1420459,...|\n",
      "|       50040|  [31509, 193050, 1...|[3699, 7177, 1121...|\n",
      "|       11651|  [72045, 18093, 11...|            [658319]|\n",
      "|      137650|  [1312801, 434352,...|                  []|\n",
      "|      126731|  [674016, 161297, ...|                  []|\n",
      "|      123967|  [2651, 656371, 17...|                  []|\n",
      "|       52239|  [54362, 77612, 18...|            [658319]|\n",
      "|      129773|  [458567, 803497, ...|[1273228, 1249398...|\n",
      "|      115178|  [31509, 1751206, ...|                  []|\n",
      "|      108224|  [233650, 1351009,...|[1249398, 1273233...|\n",
      "+------------+----------------------+--------------------+\n",
      "only showing top 20 rows\n",
      "\n"
     ]
    }
   ],
   "source": [
    "from pyspark.ml.fpm import FPGrowth\n",
    "\n",
    "fpGrowth = FPGrowth(itemsCol=\"arraycol_without_dupes\", minSupport = 0.05, minConfidence = 0.6 )\n",
    "model = fpGrowth.fit(filtred_dataset)\n",
    "\n",
    "# Display frequent itemsets.\n",
    "model.freqItemsets.show()\n",
    "\n",
    "# Display generated association rules.\n",
    "model.associationRules.show()\n",
    "\n",
    "# transform examines the input items against all the association rules and summarize the\n",
    "# consequents as prediction\n",
    "model.transform(filtred_dataset).show()"
   ]
  },
  {
   "cell_type": "markdown",
   "metadata": {
    "id": "02RLEC6H2kAx"
   },
   "source": [
    "I created the playlist dataset (with the playlist taken by spotipy) and applied the model."
   ]
  },
  {
   "cell_type": "code",
   "execution_count": 16,
   "metadata": {
    "id": "Vq_mXTVzJepH"
   },
   "outputs": [],
   "source": [
    "playlist_dataset = spark.createDataFrame(\n",
    "    [\n",
    "        (\"mine\", playlist_int),  # create your data here, be consistent in the types.\n",
    "    ],\n",
    "    [\"playlistname\", \"arraycol_without_dupes\"]  # add your column names here\n",
    ")"
   ]
  },
  {
   "cell_type": "code",
   "execution_count": 26,
   "metadata": {
    "colab": {
     "base_uri": "https://localhost:8080/"
    },
    "id": "YsKcmGA7JZ33",
    "outputId": "0d50ceea-55fd-4c67-eb43-85b3ba3ebbd8"
   },
   "outputs": [
    {
     "name": "stdout",
     "output_type": "stream",
     "text": [
      "+------------+-----------------------------------------------------------------------+----------------------------------------------------+\n",
      "|playlistname|arraycol_without_dupes                                                 |prediction                                          |\n",
      "+------------+-----------------------------------------------------------------------+----------------------------------------------------+\n",
      "|mine        |[36279, 179946, 77361, 1249398, 1641151, 6663, 204989, 841582, 1273228]|[3699, 7177, 11218, 407814, 783254, 918033, 1860817]|\n",
      "+------------+-----------------------------------------------------------------------+----------------------------------------------------+\n",
      "\n"
     ]
    }
   ],
   "source": [
    "model.transform(playlist_dataset).show(5, False)\n",
    "prediction_list = model.transform(playlist_dataset).collect()\n",
    "prediction_list_isolated = prediction_list[0][2]"
   ]
  },
  {
   "cell_type": "code",
   "execution_count": 19,
   "metadata": {
    "id": "DcVo2jMqKNQ5"
   },
   "outputs": [],
   "source": [
    "### Import the complementary dictonary to convert int to string\n",
    "\n",
    "with open('track_map_comp_dict.pickle','rb') as dict1:\n",
    "    track_dict_comp= pickle.load( dict1)"
   ]
  },
  {
   "cell_type": "code",
   "execution_count": 20,
   "metadata": {
    "id": "FdojVo7rKxtQ"
   },
   "outputs": [],
   "source": [
    "def convert_prediction (prediction_list, dict):\n",
    "  result = []\n",
    "  for i in range(len(prediction_list)):\n",
    "    result.append (dict.get(str(prediction_list[i])))\n",
    "\n",
    "  return result"
   ]
  },
  {
   "cell_type": "code",
   "execution_count": 21,
   "metadata": {
    "id": "pYGs368tMBnk"
   },
   "outputs": [],
   "source": [
    "prediction_list_string = convert_prediction(prediction_list_isolated, track_dict_comp)"
   ]
  },
  {
   "cell_type": "code",
   "execution_count": 22,
   "metadata": {
    "colab": {
     "base_uri": "https://localhost:8080/"
    },
    "id": "_Nrxw51VMJ58",
    "outputId": "1dadb830-c8e1-4fd6-bf61-88b835d16b0a"
   },
   "outputs": [
    {
     "name": "stdout",
     "output_type": "stream",
     "text": [
      "['crawl', 'revelry', 'manhattan', 'use somebody', 'sex on fire', 'i want you', 'be somebody']\n"
     ]
    }
   ],
   "source": [
    "print (prediction_list_string)"
   ]
  }
 ],
 "metadata": {
  "colab": {
   "collapsed_sections": [
    "9Nt-JhvGpL3V",
    "wayymhGnYnuS",
    "Y5wl-iUqY4bS",
    "aISKutalsM6B",
    "BWMRoDvFQmjO",
    "iuI3O-oatWBP",
    "uaOqrzgctye2",
    "8JF1AAHduULu",
    "vruo6yotwF0V"
   ],
   "name": "pyspark_Start",
   "provenance": []
  },
  "kernelspec": {
   "display_name": "Python 3 (ipykernel)",
   "language": "python",
   "name": "python3"
  },
  "language_info": {
   "codemirror_mode": {
    "name": "ipython",
    "version": 3
   },
   "file_extension": ".py",
   "mimetype": "text/x-python",
   "name": "python",
   "nbconvert_exporter": "python",
   "pygments_lexer": "ipython3",
   "version": "3.9.5"
  }
 },
 "nbformat": 4,
 "nbformat_minor": 4
}
